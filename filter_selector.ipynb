{
 "cells": [
  {
   "cell_type": "code",
   "execution_count": 1,
   "metadata": {},
   "outputs": [],
   "source": [
    "import tensorflow as tf\n",
    "from tensorflow import keras\n",
    "from keras import layers, models\n",
    "from keras.datasets import cifar10\n",
    "from keras.utils import to_categorical\n",
    "\n",
    "from keras.layers import Layer, Input, Dense, Conv2D, MaxPooling2D, Flatten, MultiHeadAttention, Add, Lambda\n",
    "from keras.models import Model, Sequential\n",
    "\n",
    "import matplotlib.pyplot as plt\n",
    "import random\n"
   ]
  },
  {
   "cell_type": "code",
   "execution_count": 2,
   "metadata": {},
   "outputs": [
    {
     "data": {
      "image/png": "[encoded data removed]",
      "text/plain": [
       "<Figure size 800x800 with 5 Axes>"
      ]
     },
     "metadata": {},
     "output_type": "display_data"
    }
   ],
   "source": [
    "(xTrain, yTrain), (xTest, yTest) = cifar10.load_data()\n",
    "xTrain, xTest = xTrain / 255.0, xTest / 255.0\n",
    "yTrain, yTest = to_categorical(yTrain), to_categorical(yTest)\n",
    "\n",
    "_, boxes = plt.subplots(1, 5, figsize=(8, 8))\n",
    "\n",
    "for box in boxes:\n",
    "    index = random.randint(0, len(xTrain))\n",
    "    box.imshow(xTrain[index])\n",
    "    box.axis('off')"
   ]
  },
  {
   "cell_type": "code",
   "execution_count": 3,
   "metadata": {},
   "outputs": [],
   "source": [
    "def FilterHeap(ch=8):\n",
    "    return Sequential(\n",
    "        [\n",
    "            Input(shape=(32, 32, 3)),\n",
    "            Conv2D(ch, 3, activation=\"relu\"),\n",
    "            MaxPooling2D(2),\n",
    "            Conv2D(ch, 3, activation=\"relu\"),\n",
    "            MaxPooling2D(2),\n",
    "            Conv2D(ch, 3, activation=\"relu\"),\n",
    "            Flatten(),\n",
    "            Dense(10, activation=\"softmax\"),\n",
    "        ]\n",
    "    )\n",
    "\n",
    "\n",
    "def GetActivations(model, inputs):\n",
    "    activations = []\n",
    "    for layer in model.layers:\n",
    "        inputs = layer(inputs)\n",
    "        activations.append(tf.reshape(inputs, [inputs.shape[0], -1]))\n",
    "    activations = tf.concat(activations, axis=1)\n",
    "    return activations\n",
    "\n",
    "\n",
    "def SampleSequence(activations, indices):\n",
    "    sequence = tf.concat([\n",
    "        tf.one_hot(indices, activations.shape[1]),\n",
    "        tf.expand_dims(tf.gather(activations, indices, axis=1, batch_dims=1), axis=2)\n",
    "    ], axis=2)\n",
    "    return sequence\n",
    "\n"
   ]
  },
  {
   "cell_type": "code",
   "execution_count": 4,
   "metadata": {},
   "outputs": [
    {
     "name": "stdout",
     "output_type": "stream",
     "text": [
      "Metal device set to: Apple M2 Max\n",
      "\n",
      "systemMemory: 96.00 GB\n",
      "maxCacheSize: 36.00 GB\n",
      "\n"
     ]
    },
    {
     "name": "stderr",
     "output_type": "stream",
     "text": [
      "2023-04-25 09:01:28.474169: I tensorflow/core/common_runtime/pluggable_device/pluggable_device_factory.cc:305] Could not identify NUMA node of platform GPU ID 0, defaulting to 0. Your kernel may not have been built with NUMA support.\n",
      "2023-04-25 09:01:28.474321: I tensorflow/core/common_runtime/pluggable_device/pluggable_device_factory.cc:271] Created TensorFlow device (/job:localhost/replica:0/task:0/device:GPU:0 with 0 MB memory) -> physical PluggableDevice (device: 0, name: METAL, pci bus id: <undefined>)\n"
     ]
    },
    {
     "name": "stdout",
     "output_type": "stream",
     "text": [
      "Epoch 1/10\n"
     ]
    },
    {
     "name": "stderr",
     "output_type": "stream",
     "text": [
      "2023-04-25 09:01:28.953891: W tensorflow/core/platform/profile_utils/cpu_utils.cc:128] Failed to get CPU frequency: 0 Hz\n",
      "2023-04-25 09:01:29.126687: I tensorflow/core/grappler/optimizers/custom_graph_optimizer_registry.cc:113] Plugin optimizer for device_type GPU is enabled.\n"
     ]
    },
    {
     "name": "stdout",
     "output_type": "stream",
     "text": [
      "13/13 [==============================] - 1s 51ms/step - loss: 2.2982 - accuracy: 0.1181 - val_loss: 2.2856 - val_accuracy: 0.1283\n",
      "Epoch 2/10\n",
      " 3/13 [=====>........................] - ETA: 0s - loss: 2.2827 - accuracy: 0.1331"
     ]
    },
    {
     "name": "stderr",
     "output_type": "stream",
     "text": [
      "2023-04-25 09:01:29.855804: I tensorflow/core/grappler/optimizers/custom_graph_optimizer_registry.cc:113] Plugin optimizer for device_type GPU is enabled.\n"
     ]
    },
    {
     "name": "stdout",
     "output_type": "stream",
     "text": [
      "13/13 [==============================] - 0s 32ms/step - loss: 2.2697 - accuracy: 0.1442 - val_loss: 2.2411 - val_accuracy: 0.1500\n",
      "Epoch 3/10\n",
      "13/13 [==============================] - 0s 30ms/step - loss: 2.2010 - accuracy: 0.1772 - val_loss: 2.1443 - val_accuracy: 0.2231\n",
      "Epoch 4/10\n",
      "13/13 [==============================] - 0s 29ms/step - loss: 2.0959 - accuracy: 0.2342 - val_loss: 2.0438 - val_accuracy: 0.2528\n",
      "Epoch 5/10\n",
      "13/13 [==============================] - 0s 29ms/step - loss: 2.0156 - accuracy: 0.2566 - val_loss: 1.9873 - val_accuracy: 0.2795\n",
      "Epoch 6/10\n",
      "13/13 [==============================] - 0s 29ms/step - loss: 1.9597 - accuracy: 0.2773 - val_loss: 1.9347 - val_accuracy: 0.2891\n",
      "Epoch 7/10\n",
      "13/13 [==============================] - 0s 29ms/step - loss: 1.9077 - accuracy: 0.2970 - val_loss: 1.8860 - val_accuracy: 0.3102\n",
      "Epoch 8/10\n",
      "13/13 [==============================] - 0s 29ms/step - loss: 1.8565 - accuracy: 0.3209 - val_loss: 1.8400 - val_accuracy: 0.3330\n",
      "Epoch 9/10\n",
      "13/13 [==============================] - 0s 29ms/step - loss: 1.8150 - accuracy: 0.3368 - val_loss: 1.7987 - val_accuracy: 0.3455\n",
      "Epoch 10/10\n",
      "13/13 [==============================] - 0s 30ms/step - loss: 1.7806 - accuracy: 0.3536 - val_loss: 1.7770 - val_accuracy: 0.3521\n"
     ]
    },
    {
     "data": {
      "text/plain": [
       "<keras.callbacks.History at 0x392363d60>"
      ]
     },
     "execution_count": 4,
     "metadata": {},
     "output_type": "execute_result"
    }
   ],
   "source": [
    "\n",
    "class TransformerBlock(Layer):\n",
    "    def __init__(self, embed, heads, expand):\n",
    "        super().__init__()\n",
    "        self.att = MultiHeadAttention(num_heads=heads, key_dim=embed)\n",
    "        self.ffn = Sequential(\n",
    "            [layers.Dense(expand, activation=\"relu\"), layers.Dense(embed)]\n",
    "        )\n",
    "        self.add = layers.Add()\n",
    "\n",
    "    def call(self, inputs): \n",
    "        att_out = self.att(inputs, inputs)\n",
    "        res_out = self.add([inputs, att_out])\n",
    "        ffn_out = self.ffn(res_out)\n",
    "        return self.add([res_out, ffn_out])\n",
    "\n",
    "\n",
    "class TransformerModel(Model):\n",
    "    def __init__(self, layers=16, embed=128, heads=4, expand=256, classes=10, activations=10906):\n",
    "        super().__init__()\n",
    "\n",
    "        self.embedder = Sequential(\n",
    "            [\n",
    "                Dense(expand, activation=\"relu\"),\n",
    "                Dense(embed, activation=\"relu\"),\n",
    "            ]\n",
    "        )\n",
    "\n",
    "        self.class_token = self.add_weight(shape=(1, 1, embed), initializer=\"zeros\", trainable=True)\n",
    "        self.policy_token = self.add_weight(shape=(1, 1, embed), initializer=\"zeros\", trainable=True)\n",
    "\n",
    "        self.blocks = []\n",
    "        for _ in range(layers):\n",
    "            self.blocks.append(TransformerBlock(embed, heads, expand))\n",
    "\n",
    "\n",
    "        self.classification_head = Sequential(\n",
    "            [\n",
    "                Dense(expand, activation=\"relu\"),\n",
    "                Dense(expand, activation=\"relu\"),\n",
    "                Dense(classes, activation=\"softmax\"),\n",
    "            ]\n",
    "        )\n",
    "        self.policy_head = Sequential(\n",
    "            [\n",
    "                Dense(expand, activation=\"relu\"),\n",
    "                Dense(expand, activation=\"relu\"),\n",
    "                Dense(activations, activation=\"softmax\"),\n",
    "            ]\n",
    "        )\n",
    "\n",
    "    def call(self, inputs):\n",
    "        x = self.embedder(inputs)\n",
    "        # prepend the class and policy tokens to the embedded sequence, duplicating for the batch\n",
    "        x = tf.concat([tf.tile(self.class_token, [tf.shape(x)[0], 1, 1]), x], axis=1)\n",
    "        x = tf.concat([tf.tile(self.policy_token, [tf.shape(x)[0], 1, 1]), x], axis=1)\n",
    "        for block in self.blocks:\n",
    "            x = block(x)\n",
    "        # pass the class token to the classification head, and the policy token to the policy head\n",
    "        return self.classification_head(x[:, 0]), self.policy_head(x[:, 1])\n",
    "\n",
    "\n",
    "vision = FilterHeap(8)\n",
    "\n",
    "vision.compile(optimizer='adam',\n",
    "                loss='categorical_crossentropy',\n",
    "              metrics=['accuracy'])\n",
    "\n",
    "vision.fit(xTrain, yTrain, epochs=10, batch_size=4000, validation_data=(xTest, yTest))\n",
    "\n"
   ]
  },
  {
   "cell_type": "code",
   "execution_count": 5,
   "metadata": {},
   "outputs": [
    {
     "name": "stdout",
     "output_type": "stream",
     "text": [
      "Epoch 1/10\n",
      "WARNING:tensorflow:Gradients do not exist for variables ['dense_38/kernel:0', 'dense_38/bias:0', 'dense_39/kernel:0', 'dense_39/bias:0', 'dense_40/kernel:0', 'dense_40/bias:0'] when minimizing the loss. If you're using `model.compile()`, did you forget to provide a `loss`argument?\n",
      "WARNING:tensorflow:Gradients do not exist for variables ['dense_38/kernel:0', 'dense_38/bias:0', 'dense_39/kernel:0', 'dense_39/bias:0', 'dense_40/kernel:0', 'dense_40/bias:0'] when minimizing the loss. If you're using `model.compile()`, did you forget to provide a `loss`argument?\n"
     ]
    },
    {
     "name": "stderr",
     "output_type": "stream",
     "text": [
      "2023-04-25 09:01:42.978856: I tensorflow/core/grappler/optimizers/custom_graph_optimizer_registry.cc:113] Plugin optimizer for device_type GPU is enabled.\n"
     ]
    },
    {
     "name": "stdout",
     "output_type": "stream",
     "text": [
      "20/20 [==============================] - ETA: 0s - loss: 4.8587 - output_1_loss: 4.8587 - output_1_accuracy: 0.0988 - output_2_accuracy: 0.0039"
     ]
    },
    {
     "name": "stderr",
     "output_type": "stream",
     "text": [
      "2023-04-25 09:03:37.404194: I tensorflow/core/grappler/optimizers/custom_graph_optimizer_registry.cc:113] Plugin optimizer for device_type GPU is enabled.\n"
     ]
    },
    {
     "name": "stdout",
     "output_type": "stream",
     "text": [
      "20/20 [==============================] - 118s 6s/step - loss: 4.8587 - output_1_loss: 4.8587 - output_1_accuracy: 0.0988 - output_2_accuracy: 0.0039 - val_loss: 2.5262 - val_output_1_loss: 2.5262 - val_output_1_accuracy: 0.1140 - val_output_2_accuracy: 0.0000e+00\n",
      "Epoch 2/10\n",
      "20/20 [==============================] - 111s 6s/step - loss: 2.3868 - output_1_loss: 2.3868 - output_1_accuracy: 0.0994 - output_2_accuracy: 0.0000e+00 - val_loss: 2.3082 - val_output_1_loss: 2.3082 - val_output_1_accuracy: 0.1040 - val_output_2_accuracy: 0.0000e+00\n",
      "Epoch 3/10\n",
      "20/20 [==============================] - 112s 6s/step - loss: 2.3062 - output_1_loss: 2.3062 - output_1_accuracy: 0.1035 - output_2_accuracy: 0.0000e+00 - val_loss: 2.3005 - val_output_1_loss: 2.3005 - val_output_1_accuracy: 0.1140 - val_output_2_accuracy: 0.0000e+00\n",
      "Epoch 4/10\n",
      "20/20 [==============================] - 108s 5s/step - loss: 2.2988 - output_1_loss: 2.2988 - output_1_accuracy: 0.1057 - output_2_accuracy: 0.0000e+00 - val_loss: 2.3054 - val_output_1_loss: 2.3054 - val_output_1_accuracy: 0.0920 - val_output_2_accuracy: 0.0000e+00\n",
      "Epoch 5/10\n",
      "20/20 [==============================] - 110s 6s/step - loss: 2.2935 - output_1_loss: 2.2935 - output_1_accuracy: 0.1114 - output_2_accuracy: 0.0000e+00 - val_loss: 2.3146 - val_output_1_loss: 2.3146 - val_output_1_accuracy: 0.1100 - val_output_2_accuracy: 0.0000e+00\n",
      "Epoch 6/10\n",
      "20/20 [==============================] - 109s 5s/step - loss: 2.2880 - output_1_loss: 2.2880 - output_1_accuracy: 0.1090 - output_2_accuracy: 0.0000e+00 - val_loss: 2.3110 - val_output_1_loss: 2.3110 - val_output_1_accuracy: 0.1100 - val_output_2_accuracy: 0.0000e+00\n",
      "Epoch 7/10\n",
      "20/20 [==============================] - 114s 6s/step - loss: 2.2797 - output_1_loss: 2.2797 - output_1_accuracy: 0.1117 - output_2_accuracy: 0.0000e+00 - val_loss: 2.3549 - val_output_1_loss: 2.3549 - val_output_1_accuracy: 0.1000 - val_output_2_accuracy: 0.0000e+00\n",
      "Epoch 8/10\n",
      "20/20 [==============================] - 111s 6s/step - loss: 2.2713 - output_1_loss: 2.2713 - output_1_accuracy: 0.1182 - output_2_accuracy: 0.0000e+00 - val_loss: 2.4020 - val_output_1_loss: 2.4020 - val_output_1_accuracy: 0.1100 - val_output_2_accuracy: 0.0000e+00\n",
      "Epoch 9/10\n",
      "20/20 [==============================] - 111s 6s/step - loss: 2.2593 - output_1_loss: 2.2593 - output_1_accuracy: 0.1235 - output_2_accuracy: 0.0000e+00 - val_loss: 2.5638 - val_output_1_loss: 2.5638 - val_output_1_accuracy: 0.1220 - val_output_2_accuracy: 0.0000e+00\n",
      "Epoch 10/10\n",
      "20/20 [==============================] - 113s 6s/step - loss: 2.2593 - output_1_loss: 2.2593 - output_1_accuracy: 0.1257 - output_2_accuracy: 0.0000e+00 - val_loss: 2.7480 - val_output_1_loss: 2.7480 - val_output_1_accuracy: 0.0820 - val_output_2_accuracy: 0.0000e+00\n"
     ]
    },
    {
     "data": {
      "text/plain": [
       "<keras.callbacks.History at 0x2e9fc27d0>"
      ]
     },
     "execution_count": 5,
     "metadata": {},
     "output_type": "execute_result"
    }
   ],
   "source": [
    "learner = TransformerModel(embed=32, expand=64)\n",
    "\n",
    "learner.compile(optimizer='adam',\n",
    "            # loss should only apply to the classification head for now, two outputs are returned though\n",
    "            loss=[keras.losses.CategoricalCrossentropy(), None],\n",
    "              metrics=['accuracy', None])\n",
    "\n",
    "\n",
    "seq_len = 16\n",
    "trainN = 20000\n",
    "testN = 500\n",
    "\n",
    "sequence_train = SampleSequence(\n",
    "        GetActivations(vision, xTrain[:trainN]),\n",
    "        tf.random.uniform([trainN, seq_len], maxval=10906, dtype=tf.int32)\n",
    "    )\n",
    "\n",
    "sequence_test = SampleSequence(\n",
    "        GetActivations(vision, xTest[:testN]),\n",
    "        tf.random.uniform([testN, seq_len], maxval=10906, dtype=tf.int32)\n",
    "    )\n",
    "\n",
    "learner.fit(sequence_train, yTrain[:trainN], epochs=10, batch_size=1000, validation_data=(sequence_test, yTest[:testN]))"
   ]
  }
 ],
 "metadata": {
  "kernelspec": {
   "display_name": "base",
   "language": "python",
   "name": "python3"
  },
  "language_info": {
   "codemirror_mode": {
    "name": "ipython",
    "version": 3
   },
   "file_extension": ".py",
   "mimetype": "text/x-python",
   "name": "python",
   "nbconvert_exporter": "python",
   "pygments_lexer": "ipython3",
   "version": "3.10.9"
  },
  "orig_nbformat": 4,
  "vscode": {
   "interpreter": {
    "hash": "e7cb1b9ae4d417fedf7f40a8eec98f7cfbd359e096bd857395a915f4609834ce"
   }
  }
 },
 "nbformat": 4,
 "nbformat_minor": 2
}
